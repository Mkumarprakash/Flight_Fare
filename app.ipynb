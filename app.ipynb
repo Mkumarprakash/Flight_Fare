{
 "cells": [
  {
   "cell_type": "code",
   "execution_count": 7,
   "id": "0012b148",
   "metadata": {},
   "outputs": [
    {
     "ename": "SyntaxError",
     "evalue": "unexpected EOF while parsing (4060110467.py, line 43)",
     "output_type": "error",
     "traceback": [
      "\u001b[1;36m  File \u001b[1;32m\"C:\\Users\\DELL\\AppData\\Local\\Temp\\ipykernel_10908\\4060110467.py\"\u001b[1;36m, line \u001b[1;32m43\u001b[0m\n\u001b[1;33m    \u001b[0m\n\u001b[1;37m    ^\u001b[0m\n\u001b[1;31mSyntaxError\u001b[0m\u001b[1;31m:\u001b[0m unexpected EOF while parsing\n"
     ]
    }
   ],
   "source": [
    "\n",
    "from flask import Flask, request, render_template\n",
    "from flask_cors import CORS, cross_origin\n",
    "import sklearn\n",
    "import pickle\n",
    "import pandas as pd\n",
    "\n",
    "app = Flask(__name__)\n",
    "model = pickle.load(open(\"Flight_fare_pred.pkl \", \"rb\"))\n",
    "#model =  pickle.load(open('Flight_fare_pred.pkl','rb'))\n",
    "CORS(app)\n",
    "\n",
    "@app.route(\"/\")\n",
    "@cross_origin()\n",
    "def home():\n",
    "    return render_template(\"home.html\")\n",
    "\n",
    "\n",
    "\n",
    "\n",
    "@app.route(\"/predict\", methods = [\"GET\", \"POST\"])\n",
    "@cross_origin()\n",
    "\n",
    "        # print(\n",
    "        #     d_Cochin,\n",
    "        #     d_Delhi,\n",
    "        #     d_New_Delhi,\n",
    "        #     d_Hyderabad,\n",
    "        #     d_Kolkata\n",
    "        # )\n",
    "        \n",
    "\n",
    "    #     ['Total_Stops', 'Journey_day', 'Journey_month', 'Dep_hour',\n",
    "    #    'Dep_min', 'Arrival_hour', 'Arrival_min', 'Duration_hours',\n",
    "    #    'Duration_mins', 'Airline_Air India', 'Airline_GoAir', 'Airline_IndiGo',\n",
    "    #    'Airline_Jet Airways', 'Airline_Jet Airways Business',\n",
    "    #    'Airline_Multiple carriers',\n",
    "    #    'Airline_Multiple carriers Premium economy', 'Airline_SpiceJet',\n",
    "    #    'Airline_Trujet', 'Airline_Vistara', 'Airline_Vistara Premium economy',\n",
    "    #    'Source_Chennai', 'Source_Delhi', 'Source_Kolkata', 'Source_Mumbai',\n",
    "    #    'Destination_Cochin', 'Destination_Delhi', 'Destination_Hyderabad',\n",
    "    #    'Destination_Kolkata', 'Destination_New Delhi']\n",
    "        \n",
    "    "
   ]
  },
  {
   "cell_type": "code",
   "execution_count": 8,
   "id": "6681a3da",
   "metadata": {},
   "outputs": [],
   "source": []
  },
  {
   "cell_type": "code",
   "execution_count": 18,
   "id": "0ecbc23f",
   "metadata": {},
   "outputs": [
    {
     "ename": "IndentationError",
     "evalue": "expected an indented block (3942259261.py, line 44)",
     "output_type": "error",
     "traceback": [
      "\u001b[1;36m  File \u001b[1;32m\"C:\\Users\\DELL\\AppData\\Local\\Temp\\ipykernel_10908\\3942259261.py\"\u001b[1;36m, line \u001b[1;32m44\u001b[0m\n\u001b[1;33m    app.run(debug=True)\u001b[0m\n\u001b[1;37m    ^\u001b[0m\n\u001b[1;31mIndentationError\u001b[0m\u001b[1;31m:\u001b[0m expected an indented block\n"
     ]
    }
   ],
   "source": [
    "    prediction=model.predict([\n",
    "            'Total_Stops',\n",
    "            'Price',\n",
    "            'Journey_Day',\n",
    "            'Journey_Month',\n",
    "            'Journey_Weekday',\n",
    "            'Duration_minutes',\n",
    "            'Dep_hour',\n",
    "            'Dep_min',\n",
    "            'Arrival_hour',\n",
    "            'Arrival_min',\n",
    "            'Airline_Air India',\n",
    "            'Airline_GoAir',\n",
    "            'Airline_IndiGo',\n",
    "            'Airline_Jet Airways',\n",
    "            'Airline_Jet Airways Business',\n",
    "            'Airline_Multiple carriers',\n",
    "            'Airline_Multiple carriers Premium economy',\n",
    "            'Airline_SpiceJet',\n",
    "            'Airline_Trujet',\n",
    "            'Airline_Vistara',\n",
    "            'Airline_Vistara Premium economy',\n",
    "            'Source_Chennai',\n",
    "            'Source_Delhi',\n",
    "            'Source_Kolkata',\n",
    "            'Source_Mumbai',\n",
    "             'Destination_Cochin',\n",
    "            'Destination_Delhi',\n",
    "            'Destination_Hyderabad',\n",
    "           'Destination_Kolkata',\n",
    "            'Destination_New Delhi'\n",
    "        ])\n",
    "    output=round(prediction[0],2)\n",
    "\n",
    "    return render_template('home.html',prediction_text=\"Your Flight price is Rs. {}\".format(output))\n",
    "\n",
    "\n",
    "return render_template(\"home.html\")\n",
    "\n",
    "\n",
    "\n",
    "\n",
    "if __name__ == \"__main__\":\n",
    "    app.run(debug=True)\n"
   ]
  },
  {
   "cell_type": "code",
   "execution_count": null,
   "id": "91ab12a3",
   "metadata": {},
   "outputs": [],
   "source": []
  }
 ],
 "metadata": {
  "kernelspec": {
   "display_name": "Python 3 (ipykernel)",
   "language": "python",
   "name": "python3"
  },
  "language_info": {
   "codemirror_mode": {
    "name": "ipython",
    "version": 3
   },
   "file_extension": ".py",
   "mimetype": "text/x-python",
   "name": "python",
   "nbconvert_exporter": "python",
   "pygments_lexer": "ipython3",
   "version": "3.9.13"
  }
 },
 "nbformat": 4,
 "nbformat_minor": 5
}
